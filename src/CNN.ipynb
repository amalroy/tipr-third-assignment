{
 "cells": [
  {
   "cell_type": "code",
   "execution_count": 62,
   "metadata": {},
   "outputs": [],
   "source": [
    "import numpy as np\n",
    "import mnist_reader\n",
    "import keras\n",
    "import itertools\n",
    "from keras.layers import Conv2D, MaxPooling2D, Flatten, Dropout, Dense, Activation, BatchNormalization\n",
    "from keras.utils.generic_utils import get_custom_objects\n",
    "from keras.models import Sequential\n",
    "from keras import regularizers\n",
    "from keras import backend as K\n",
    "import tensorflow as tf \n",
    "from sklearn import manifold\n",
    "from sklearn.cluster import KMeans\n",
    "from sklearn.metrics import accuracy_score,f1_score\n",
    "from scipy.stats import mode\n",
    "import matplotlib.pyplot as plt\n",
    "def unpickle(file):\n",
    "    import pickle\n",
    "    with open(file, 'rb') as fo:\n",
    "        dict = pickle.load(fo, encoding='bytes')\n",
    "    return dict\n",
    "def swish(x):\n",
    "    return (K.sigmoid(x) * x)\n",
    "get_custom_objects().update({'swish': swish})"
   ]
  },
  {
   "cell_type": "code",
   "execution_count": 2,
   "metadata": {},
   "outputs": [
    {
     "name": "stdout",
     "output_type": "stream",
     "text": [
      "[name: \"/device:CPU:0\"\n",
      "device_type: \"CPU\"\n",
      "memory_limit: 268435456\n",
      "locality {\n",
      "}\n",
      "incarnation: 15112674383378801272\n",
      ", name: \"/device:GPU:0\"\n",
      "device_type: \"GPU\"\n",
      "memory_limit: 11323890074\n",
      "locality {\n",
      "  bus_id: 1\n",
      "}\n",
      "incarnation: 15214618671506418297\n",
      "physical_device_desc: \"device: 0, name: Tesla K40c, pci bus id: 0000:04:00.0, compute capability: 3.5\"\n",
      "]\n"
     ]
    }
   ],
   "source": [
    "from tensorflow.python.client import device_lib\n",
    "print(device_lib.list_local_devices())"
   ]
  },
  {
   "cell_type": "code",
   "execution_count": 63,
   "metadata": {},
   "outputs": [],
   "source": [
    "batch_size = 32\n",
    "num_classes = 10\n",
    "epochs = 10"
   ]
  },
  {
   "cell_type": "code",
   "execution_count": 64,
   "metadata": {},
   "outputs": [
    {
     "data": {
      "text/plain": [
       "(60000, 28, 28, 1)"
      ]
     },
     "execution_count": 64,
     "metadata": {},
     "output_type": "execute_result"
    }
   ],
   "source": [
    "X_train,y_train=mnist_reader.load_mnist('../data/Fashion-MNIST/', kind='train')\n",
    "y_train = keras.utils.to_categorical(y_train, num_classes)\n",
    "X_train=X_train.reshape([-1,28,28,1])\n",
    "X_train=X_train/255\n",
    "X_train.shape"
   ]
  },
  {
   "cell_type": "code",
   "execution_count": 90,
   "metadata": {},
   "outputs": [
    {
     "data": {
      "text/plain": [
       "(50000, 32, 32, 3)"
      ]
     },
     "execution_count": 90,
     "metadata": {},
     "output_type": "execute_result"
    }
   ],
   "source": [
    "folder='../data/CIFAR-10/'\n",
    "for i in range(1,6):\n",
    "    fname='data_batch_'+str(i)\n",
    "    batch=unpickle(folder+fname)\n",
    "    tmp_images=batch[b'data'].reshape([-1, 3, 32, 32])\n",
    "    if i==1 :\n",
    "        X_train=tmp_images.transpose([0, 2, 3, 1])\n",
    "        y_train=np.array(batch[b'labels'])\n",
    "    else:\n",
    "        X_train=np.vstack((X_train,tmp_images.transpose([0, 2, 3, 1])))\n",
    "        y_train=np.append(y_train,np.array(batch[b'labels']))\n",
    "y_train = keras.utils.to_categorical(y_train, num_classes)\n",
    "X_train = X_train/128\n",
    "X_train.shape"
   ]
  },
  {
   "cell_type": "code",
   "execution_count": 40,
   "metadata": {},
   "outputs": [],
   "source": [
    "folder='../data/CIFAR-10/'\n",
    "n_classes=10\n",
    "fname='test_batch'\n",
    "test=unpickle(folder+fname)\n",
    "tmp_images=test[b'data'].reshape([-1, 3, 32, 32])\n",
    "x_test=tmp_images.transpose([0, 2, 3, 1])\n",
    "y_test=np.array(test[b'labels'])\n",
    "y_test=keras.utils.to_categorical(y_test, n_classes)\n",
    "x_test=x_test/255"
   ]
  },
  {
   "cell_type": "code",
   "execution_count": null,
   "metadata": {},
   "outputs": [],
   "source": [
    "def keras_nn(input_shape):\n",
    "    net=Sequential()\n",
    "    net.add(Flatten())\n",
    "    net.add(Dense(512, activation='relu', input_shape=(input_shape,)))\n",
    "    net.add(Dropout(0.2))\n",
    "    net.add(Dense(512, activation='relu'))\n",
    "    net.add(Dropout(0.2))\n",
    "    net.add(Dense(num_classes, activation=tf.nn.softmax))\n",
    "    opt = keras.optimizers.rmsprop(lr=0.0001, decay=1e-6)\n",
    "    net.compile(loss='categorical_crossentropy',\n",
    "              optimizer=opt,\n",
    "              metrics=['accuracy'])\n",
    "    return net"
   ]
  },
  {
   "cell_type": "code",
   "execution_count": 94,
   "metadata": {},
   "outputs": [],
   "source": [
    "def keras_cnn(input_shape,n_fil,act,init='lecun_normal'):\n",
    "    net=Sequential()\n",
    "    net.add(Conv2D(n_fil[0], (4, 4), padding='same',input_shape=input_shape,kernel_initializer=init))\n",
    "    net.add(BatchNormalization())\n",
    "    #net.add(MaxPooling2D(pool_size=(2, 2), strides=2))\n",
    "    for i in range(len(n_fil)):\n",
    "        if(i == len(n_fil)-1):\n",
    "            net.add(Dropout(0.25))\n",
    "            net.add(Flatten())\n",
    "            net.add(Dense(400,activation='elu',kernel_initializer=init))\n",
    "            net.add(Dropout(0.5))\n",
    "            net.add(Dense(128,activation='tanh',kernel_initializer=init))\n",
    "            net.add(Dropout(0.5))\n",
    "            #net.add(Dense(10,activation=tf.nn.softmax,kernel_initializer=init))\n",
    "            net.add(Dense(10,activation='softmax',kernel_initializer=init))\n",
    "        else:\n",
    "            net.add(Conv2D(n_fil[i+1],(3,3), padding='same',activation=act,kernel_initializer=init))\n",
    "            net.add(BatchNormalization())\n",
    "            if(i % 1 == 0):\n",
    "                net.add(MaxPooling2D(pool_size=(2, 2),strides=2))\n",
    "    \n",
    "    #opt = keras.optimizers.rmsprop(lr=0.0001, decay=1e-6)\n",
    "    opt = keras.optimizers.Adadelta()\n",
    "    #opt = keras.optimizers.Adam()\n",
    "    net.compile(loss=keras.losses.categorical_crossentropy,\n",
    "                  optimizer=opt,\n",
    "                  metrics=['accuracy'])\n",
    "    return net"
   ]
  },
  {
   "cell_type": "code",
   "execution_count": 95,
   "metadata": {},
   "outputs": [
    {
     "name": "stdout",
     "output_type": "stream",
     "text": [
      "_________________________________________________________________\n",
      "Layer (type)                 Output Shape              Param #   \n",
      "=================================================================\n",
      "conv2d_29 (Conv2D)           (None, 32, 32, 8)         392       \n",
      "_________________________________________________________________\n",
      "batch_normalization_29 (Batc (None, 32, 32, 8)         32        \n",
      "_________________________________________________________________\n",
      "conv2d_30 (Conv2D)           (None, 32, 32, 32)        2336      \n",
      "_________________________________________________________________\n",
      "batch_normalization_30 (Batc (None, 32, 32, 32)        128       \n",
      "_________________________________________________________________\n",
      "max_pooling2d_19 (MaxPooling (None, 16, 16, 32)        0         \n",
      "_________________________________________________________________\n",
      "conv2d_31 (Conv2D)           (None, 16, 16, 32)        9248      \n",
      "_________________________________________________________________\n",
      "batch_normalization_31 (Batc (None, 16, 16, 32)        128       \n",
      "_________________________________________________________________\n",
      "max_pooling2d_20 (MaxPooling (None, 8, 8, 32)          0         \n",
      "_________________________________________________________________\n",
      "dropout_31 (Dropout)         (None, 8, 8, 32)          0         \n",
      "_________________________________________________________________\n",
      "flatten_11 (Flatten)         (None, 2048)              0         \n",
      "_________________________________________________________________\n",
      "dense_31 (Dense)             (None, 400)               819600    \n",
      "_________________________________________________________________\n",
      "dropout_32 (Dropout)         (None, 400)               0         \n",
      "_________________________________________________________________\n",
      "dense_32 (Dense)             (None, 128)               51328     \n",
      "_________________________________________________________________\n",
      "dropout_33 (Dropout)         (None, 128)               0         \n",
      "_________________________________________________________________\n",
      "dense_33 (Dense)             (None, 10)                1290      \n",
      "=================================================================\n",
      "Total params: 884,482\n",
      "Trainable params: 884,338\n",
      "Non-trainable params: 144\n",
      "_________________________________________________________________\n"
     ]
    }
   ],
   "source": [
    "conv=keras_cnn(X_train.shape[1:],[8,32,32],'relu')\n",
    "conv.summary()"
   ]
  },
  {
   "cell_type": "code",
   "execution_count": 7,
   "metadata": {},
   "outputs": [
    {
     "ename": "NameError",
     "evalue": "name 'keras_nn' is not defined",
     "output_type": "error",
     "traceback": [
      "\u001b[0;31m---------------------------------------------------------------------------\u001b[0m",
      "\u001b[0;31mNameError\u001b[0m                                 Traceback (most recent call last)",
      "\u001b[0;32m<ipython-input-7-b7a71e03ac23>\u001b[0m in \u001b[0;36m<module>\u001b[0;34m\u001b[0m\n\u001b[1;32m      2\u001b[0m \u001b[0mX_test\u001b[0m\u001b[0;34m=\u001b[0m\u001b[0mX_train\u001b[0m\u001b[0;34m[\u001b[0m\u001b[0mmax_train\u001b[0m\u001b[0;34m:\u001b[0m\u001b[0;34m]\u001b[0m\u001b[0;34m\u001b[0m\u001b[0;34m\u001b[0m\u001b[0m\n\u001b[1;32m      3\u001b[0m \u001b[0my_test\u001b[0m\u001b[0;34m=\u001b[0m\u001b[0my_train\u001b[0m\u001b[0;34m[\u001b[0m\u001b[0mmax_train\u001b[0m\u001b[0;34m:\u001b[0m\u001b[0;34m]\u001b[0m\u001b[0;34m\u001b[0m\u001b[0;34m\u001b[0m\u001b[0m\n\u001b[0;32m----> 4\u001b[0;31m \u001b[0mnet\u001b[0m\u001b[0;34m=\u001b[0m\u001b[0mkeras_nn\u001b[0m\u001b[0;34m(\u001b[0m\u001b[0;36m32\u001b[0m\u001b[0;34m*\u001b[0m\u001b[0;36m32\u001b[0m\u001b[0;34m*\u001b[0m\u001b[0;36m3\u001b[0m\u001b[0;34m)\u001b[0m\u001b[0;34m\u001b[0m\u001b[0;34m\u001b[0m\u001b[0m\n\u001b[0m\u001b[1;32m      5\u001b[0m \u001b[0mnet\u001b[0m\u001b[0;34m.\u001b[0m\u001b[0mfit\u001b[0m\u001b[0;34m(\u001b[0m\u001b[0mX_train\u001b[0m\u001b[0;34m[\u001b[0m\u001b[0;34m:\u001b[0m\u001b[0mmax_train\u001b[0m\u001b[0;34m]\u001b[0m\u001b[0;34m,\u001b[0m \u001b[0my_train\u001b[0m\u001b[0;34m[\u001b[0m\u001b[0;34m:\u001b[0m\u001b[0mmax_train\u001b[0m\u001b[0;34m]\u001b[0m\u001b[0;34m,\u001b[0m \u001b[0mbatch_size\u001b[0m\u001b[0;34m=\u001b[0m\u001b[0;36m64\u001b[0m\u001b[0;34m,\u001b[0m\u001b[0mepochs\u001b[0m\u001b[0;34m=\u001b[0m\u001b[0;36m20\u001b[0m\u001b[0;34m,\u001b[0m\u001b[0mshuffle\u001b[0m\u001b[0;34m=\u001b[0m\u001b[0;32mTrue\u001b[0m\u001b[0;34m,\u001b[0m\u001b[0mvalidation_data\u001b[0m\u001b[0;34m=\u001b[0m\u001b[0;34m(\u001b[0m\u001b[0mX_test\u001b[0m\u001b[0;34m,\u001b[0m\u001b[0my_test\u001b[0m\u001b[0;34m)\u001b[0m\u001b[0;34m)\u001b[0m\u001b[0;34m\u001b[0m\u001b[0;34m\u001b[0m\u001b[0m\n",
      "\u001b[0;31mNameError\u001b[0m: name 'keras_nn' is not defined"
     ]
    }
   ],
   "source": [
    "max_train=40000  \n",
    "X_test=X_train[max_train:]\n",
    "y_test=y_train[max_train:]\n",
    "net=keras_nn(32*32*3)\n",
    "net.fit(X_train[:max_train], y_train[:max_train], batch_size=64,epochs=20,shuffle=True,validation_data=(X_test,y_test))"
   ]
  },
  {
   "cell_type": "code",
   "execution_count": 96,
   "metadata": {
    "scrolled": true
   },
   "outputs": [
    {
     "name": "stdout",
     "output_type": "stream",
     "text": [
      "Train on 49999 samples, validate on 25000 samples\n",
      "Epoch 1/30\n",
      "49999/49999 [==============================] - 40s 803us/step - loss: 1.5229 - acc: 0.4569 - val_loss: 1.2333 - val_acc: 0.5665\n",
      "Epoch 2/30\n",
      "49999/49999 [==============================] - 38s 752us/step - loss: 1.1224 - acc: 0.6087 - val_loss: 1.1125 - val_acc: 0.6127\n",
      "Epoch 3/30\n",
      "49999/49999 [==============================] - 39s 785us/step - loss: 0.9802 - acc: 0.6630 - val_loss: 0.8244 - val_acc: 0.7164\n",
      "Epoch 4/30\n",
      "49999/49999 [==============================] - 39s 779us/step - loss: 0.9064 - acc: 0.6922 - val_loss: 1.1916 - val_acc: 0.6044\n",
      "Epoch 5/30\n",
      "49999/49999 [==============================] - 38s 762us/step - loss: 0.8493 - acc: 0.7132 - val_loss: 1.0317 - val_acc: 0.6635\n",
      "Epoch 6/30\n",
      "49999/49999 [==============================] - 43s 865us/step - loss: 0.7979 - acc: 0.7313 - val_loss: 0.6893 - val_acc: 0.7659\n",
      "Epoch 7/30\n",
      "49999/49999 [==============================] - 41s 811us/step - loss: 0.7612 - acc: 0.7434 - val_loss: 0.6454 - val_acc: 0.7793\n",
      "Epoch 8/30\n",
      "49999/49999 [==============================] - 40s 799us/step - loss: 0.7197 - acc: 0.7575 - val_loss: 0.5787 - val_acc: 0.8050\n",
      "Epoch 9/30\n",
      "49999/49999 [==============================] - 41s 821us/step - loss: 0.6912 - acc: 0.7689 - val_loss: 0.5136 - val_acc: 0.8266\n",
      "Epoch 10/30\n",
      "49999/49999 [==============================] - 40s 791us/step - loss: 0.6649 - acc: 0.7767 - val_loss: 0.5006 - val_acc: 0.8341\n",
      "Epoch 11/30\n",
      "49999/49999 [==============================] - 38s 754us/step - loss: 0.6465 - acc: 0.7839 - val_loss: 0.8543 - val_acc: 0.7206\n",
      "Epoch 12/30\n",
      "49999/49999 [==============================] - 39s 787us/step - loss: 0.6211 - acc: 0.7936 - val_loss: 0.6460 - val_acc: 0.7826\n",
      "Epoch 13/30\n",
      "49999/49999 [==============================] - 40s 799us/step - loss: 0.6006 - acc: 0.7991 - val_loss: 0.6066 - val_acc: 0.7925\n",
      "Epoch 14/30\n",
      "49999/49999 [==============================] - 40s 801us/step - loss: 0.5800 - acc: 0.8063 - val_loss: 0.3922 - val_acc: 0.8697\n",
      "Epoch 15/30\n",
      "49999/49999 [==============================] - 40s 805us/step - loss: 0.5612 - acc: 0.8142 - val_loss: 0.3644 - val_acc: 0.8794\n",
      "Epoch 16/30\n",
      "49999/49999 [==============================] - 41s 812us/step - loss: 0.5392 - acc: 0.8208 - val_loss: 0.3721 - val_acc: 0.8776\n",
      "Epoch 17/30\n",
      "49999/49999 [==============================] - 38s 753us/step - loss: 0.5329 - acc: 0.8237 - val_loss: 0.3969 - val_acc: 0.8679\n",
      "Epoch 18/30\n",
      "49999/49999 [==============================] - 39s 779us/step - loss: 0.5134 - acc: 0.8302 - val_loss: 0.3510 - val_acc: 0.8864\n",
      "Epoch 19/30\n",
      "49999/49999 [==============================] - 38s 763us/step - loss: 0.5037 - acc: 0.8355 - val_loss: 0.3475 - val_acc: 0.8868\n",
      "Epoch 20/30\n",
      "49999/49999 [==============================] - 40s 795us/step - loss: 0.4904 - acc: 0.8382 - val_loss: 0.3575 - val_acc: 0.8832\n",
      "Epoch 21/30\n",
      "49999/49999 [==============================] - 40s 792us/step - loss: 0.4767 - acc: 0.8431 - val_loss: 0.3569 - val_acc: 0.8828\n",
      "Epoch 22/30\n",
      "49999/49999 [==============================] - 39s 773us/step - loss: 0.4633 - acc: 0.8462 - val_loss: 0.4275 - val_acc: 0.8563\n",
      "Epoch 23/30\n",
      "49999/49999 [==============================] - 38s 758us/step - loss: 0.4536 - acc: 0.8510 - val_loss: 0.2810 - val_acc: 0.9075\n",
      "Epoch 24/30\n",
      "49999/49999 [==============================] - 40s 791us/step - loss: 0.4409 - acc: 0.8547 - val_loss: 0.2016 - val_acc: 0.9372\n",
      "Epoch 25/30\n",
      "49999/49999 [==============================] - 39s 783us/step - loss: 0.4406 - acc: 0.8541 - val_loss: 0.4511 - val_acc: 0.8611\n",
      "Epoch 26/30\n",
      "49999/49999 [==============================] - 39s 780us/step - loss: 0.4271 - acc: 0.8601 - val_loss: 0.2342 - val_acc: 0.9267\n",
      "Epoch 27/30\n",
      "49999/49999 [==============================] - 42s 849us/step - loss: 0.4197 - acc: 0.8622 - val_loss: 0.1795 - val_acc: 0.9432\n",
      "Epoch 28/30\n",
      "49999/49999 [==============================] - 39s 785us/step - loss: 0.4112 - acc: 0.8647 - val_loss: 0.1889 - val_acc: 0.9417\n",
      "Epoch 29/30\n",
      "49999/49999 [==============================] - 39s 784us/step - loss: 0.3998 - acc: 0.8691 - val_loss: 0.2462 - val_acc: 0.9214\n",
      "Epoch 30/30\n",
      "49999/49999 [==============================] - 40s 798us/step - loss: 0.3944 - acc: 0.8707 - val_loss: 0.3773 - val_acc: 0.8766\n"
     ]
    },
    {
     "data": {
      "text/plain": [
       "<keras.callbacks.History at 0x7fc3dd5597b8>"
      ]
     },
     "execution_count": 96,
     "metadata": {},
     "output_type": "execute_result"
    }
   ],
   "source": [
    "max_train=-1\n",
    "#X_test=X_train[max_train:]\n",
    "#y_test=y_train[max_train:]\n",
    "conv.fit(X_train[:max_train], y_train[:max_train], batch_size=64,epochs=30,shuffle=True,validation_data=(X_test,y_test))"
   ]
  },
  {
   "cell_type": "code",
   "execution_count": 87,
   "metadata": {},
   "outputs": [
    {
     "name": "stdout",
     "output_type": "stream",
     "text": [
      "Test Accuracy :: 0.7221\n",
      "Test Macro F1-score :: 0.7212128652135202\n"
     ]
    }
   ],
   "source": [
    "y_pred=np.argmax(conv.predict(X_test),axis=1)\n",
    "Y_test=np.argmax(y_test,axis=1)\n",
    "acc=accuracy_score(Y_test[-10000:],y_pred[-10000:])\n",
    "f1_mic=f1_score(Y_test[-10000:],y_pred[-10000:],average='micro')\n",
    "f1_mac=f1_score(Y_test[-10000:],y_pred[-10000:],average='macro')\n",
    "print(\"Test Accuracy ::\",acc)\n",
    "print(\"Test Macro F1-score ::\",f1_mac)"
   ]
  },
  {
   "cell_type": "code",
   "execution_count": 73,
   "metadata": {},
   "outputs": [
    {
     "data": {
      "text/plain": [
       "(30000, 28, 28, 1)"
      ]
     },
     "execution_count": 73,
     "metadata": {},
     "output_type": "execute_result"
    }
   ],
   "source": [
    "X_test.shape"
   ]
  },
  {
   "cell_type": "code",
   "execution_count": 85,
   "metadata": {},
   "outputs": [
    {
     "data": {
      "text/plain": [
       "(10000, 32)"
      ]
     },
     "execution_count": 85,
     "metadata": {},
     "output_type": "execute_result"
    }
   ],
   "source": [
    "get_embed = K.function([conv.layers[0].input], [conv.layers[-2].output])\n",
    "embed=get_embed([X_test[-10000:]])[0]\n",
    "cluster=KMeans(n_clusters=num_classes).fit(embed)\n",
    "embed.shape"
   ]
  },
  {
   "cell_type": "code",
   "execution_count": 31,
   "metadata": {},
   "outputs": [],
   "source": [
    "tsne=manifold.TSNE(n_components=2)\n",
    "X_embed=tsne.fit_transform(embed[-1000:])\n",
    "y_labels=np.argmax(y_test[-1000:],axis=1)"
   ]
  },
  {
   "cell_type": "code",
   "execution_count": 86,
   "metadata": {},
   "outputs": [
    {
     "data": {
      "text/plain": [
       "(0.7226, 0.7222819608337824)"
      ]
     },
     "execution_count": 86,
     "metadata": {},
     "output_type": "execute_result"
    }
   ],
   "source": [
    "y_labels=np.argmax(y_test[-10000:],axis=1)\n",
    "pred=cluster.labels_[-10000:]\n",
    "labels=np.zeros_like(pred)\n",
    "for i in range(10):\n",
    "    mask=(pred==i)\n",
    "    labels[mask]=mode(y_labels[mask])[0]\n",
    "accuracy_score(y_labels,labels),f1_score(y_labels,labels,average='macro')"
   ]
  },
  {
   "cell_type": "code",
   "execution_count": null,
   "metadata": {},
   "outputs": [],
   "source": [
    "np.argmax(conv.predict(X_test[-100:]),axis=1), y_test[-100:]"
   ]
  },
  {
   "cell_type": "code",
   "execution_count": 33,
   "metadata": {},
   "outputs": [
    {
     "data": {
      "text/plain": [
       "<function matplotlib.pyplot.show(*args, **kw)>"
      ]
     },
     "execution_count": 33,
     "metadata": {},
     "output_type": "execute_result"
    },
    {
     "data": {
      "image/png": "[encoded data removed]",
      "text/plain": [
       "<Figure size 432x288 with 2 Axes>"
      ]
     },
     "metadata": {
      "needs_background": "light"
     },
     "output_type": "display_data"
    }
   ],
   "source": [
    "plt.scatter(X_embed[:,0],X_embed[:,1],c=y_labels.astype(int),alpha=0.5)\n",
    "plt.colorbar()\n",
    "plt.title('tSNE of embedding with dimension 256')\n",
    "plt.savefig('tsne_cifar.png',dpi=300)\n",
    "plt.show"
   ]
  },
  {
   "cell_type": "code",
   "execution_count": null,
   "metadata": {},
   "outputs": [],
   "source": [
    "plt.scatter(X_embed[:,0],X_embed[:,1],c=labels,alpha=0.5)\n",
    "plt.colorbar()\n",
    "plt.title('tSNE of embedding colored by k-means cluster')\n",
    "plt.savefig('cluster_fashion.png',dpi=300)\n",
    "plt.show"
   ]
  },
  {
   "cell_type": "code",
   "execution_count": null,
   "metadata": {},
   "outputs": [],
   "source": [
    "def keras_cnn(input_shape,n_fil,act):\n",
    "    net=Sequential()\n",
    "    net.add(Conv2D(n_fil[0], (3, 3), padding='same',input_shape=input_shape))\n",
    "    for i in range(len(n_fil)):\n",
    "        if(i == len(n_fil)-1):\n",
    "            net.add(Dropout(0.25))\n",
    "            net.add(Flatten())\n",
    "            net.add(Dense(512,activation='relu'))\n",
    "            net.add(Dropout(0.5))\n",
    "            net.add(Dense(10,activation=tf.nn.softmax))\n",
    "        else:\n",
    "            net.add(Conv2D(n_fil[i+1],(3,3), padding='same',activation=act))\n",
    "            if(i % 2 == 0):\n",
    "                net.add(MaxPooling2D(pool_size=(2, 2)))\n",
    "    \n",
    "    #opt = keras.optimizers.rmsprop(lr=0.0001, decay=1e-6)\n",
    "    opt = keras.optimizers.Adadelta()\n",
    "    #opt = keras.optimizers.Adam()\n",
    "    # Train the model using RMSprop\n",
    "    net.compile(loss=keras.losses.categorical_crossentropy,\n",
    "                  optimizer=opt,\n",
    "                  metrics=['accuracy'])\n",
    "    return net"
   ]
  },
  {
   "cell_type": "code",
   "execution_count": 98,
   "metadata": {},
   "outputs": [],
   "source": [
    "from keras.models import load_model\n",
    "conv.save('model_CIFAR-10.h5')"
   ]
  },
  {
   "cell_type": "code",
   "execution_count": 59,
   "metadata": {},
   "outputs": [
    {
     "data": {
      "image/png": "[encoded data removed]",
      "text/plain": [
       "<Figure size 432x288 with 1 Axes>"
      ]
     },
     "metadata": {
      "needs_background": "light"
     },
     "output_type": "display_data"
    }
   ],
   "source": [
    "accu=[0.767,0.7655,0.7848,0.7751]\n",
    "#f1_score=[0.7748,0.8029,0.7953,0.8088]\n",
    "n_layers=['tanh','sigmoid','relu','swish']\n",
    "#n_layers=[8,16,32,64]\n",
    "plt.plot(n_layers,accu,label=\"accuracy\")\n",
    "#plt.plot(n_hid,f1micro,label=\"f1_micro\")\n",
    "#plt.plot(n_layers,f1_score,label=\"f1_score\")\n",
    "#ax=plt.subplot(313)\n",
    "plt.legend()\n",
    "plt.title('Activation function vs performance')\n",
    "plt.savefig('part_2_task_3.png',dpi=300)\n",
    "plt.show()"
   ]
  },
  {
   "cell_type": "code",
   "execution_count": null,
   "metadata": {},
   "outputs": [],
   "source": []
  }
 ],
 "metadata": {
  "kernelspec": {
   "display_name": "tipr",
   "language": "python",
   "name": "tipr"
  },
  "language_info": {
   "codemirror_mode": {
    "name": "ipython",
    "version": 3
   },
   "file_extension": ".py",
   "mimetype": "text/x-python",
   "name": "python",
   "nbconvert_exporter": "python",
   "pygments_lexer": "ipython3",
   "version": "3.6.7"
  }
 },
 "nbformat": 4,
 "nbformat_minor": 2
}
