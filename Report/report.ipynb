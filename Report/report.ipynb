{
 "cells": [
  {
   "cell_type": "markdown",
   "metadata": {},
   "source": [
    "# TIPR Assignment 3\n",
    "## Amal Roy \n",
    "## 14989"
   ]
  },
  {
   "cell_type": "markdown",
   "metadata": {},
   "source": [
    "All the python code is in src directory. Python 3.6 was used.\n",
    "I implemented a CNN using keras. A summary architecture using filter config [8,32,32] is shown below:\n",
    "\n",
    "To run the code, execute:  python main.py --activation 'relu' --filter-config '[8 32 32]' --dataset Fashion-MNIST --train-data ../data/Fashion-MNIST/ --test-data ../data/Fashion-MNIST\n",
    "\n",
    "\n",
    "|layer | output shape | #param |\n",
    "|------|--------------|--------|\n",
    "|conv2d| (None, 28, 28, 8) | 136|\n",
    "|batchnorm| (None, 28, 28, 8) | 32|\n",
    "|conv2d| (None, 28, 28, 32) | 2336|\n",
    "|batchnorm| (None, 28, 28, 32) | 128|\n",
    "|maxpool| (None, 14, 14, 32) | 0|\n",
    "|conv2d| (None, 14, 14, 32) | 9248|\n",
    "|batchnorm| (None, 14, 14, 32) | 128|\n",
    "|maxpool| (None, 7, 7, 32) | 0|\n",
    "|dropout| (None, 7, 7, 32) | 0|\n",
    "|flatten| (None, 1568) | 0|\n",
    "|dense| (None,512) | 803328|\n",
    "|dropout| (None,512) |0|\n",
    "|dense| (None,256) | 131328|\n",
    "|dropout| (None,256) |0|\n",
    "|dense| (None,10) | 2570|\n"
   ]
  },
  {
   "cell_type": "markdown",
   "metadata": {},
   "source": [
    "## Task 1\n",
    "### Fashion-MNIST\n",
    "For different number of convolutional layers, the accuracy and f1-macro scores are plotted.\n",
    "When only one convolutional layer is used, the accuracy and f1 score are comparitively low. When two or more convolutional layers are added, the accuracy increases. No significant increase is observed if the number of hidden layers is increased above 3.\n",
    "<img src=\"../src/part_1_task_1.png\" width=\"400\">\n",
    "\n",
    "### CIFAR-10\n",
    "For CIFAR-10, if only one layer is used, the accuracy is significantly lower. Adding hidden layers above 3 is not showing performance gains similar to the fashion-MNIST dataset.\n",
    "<img src=\"../src/part_2_task_1.png\" width=\"400\">\n",
    "\n"
   ]
  },
  {
   "cell_type": "markdown",
   "metadata": {},
   "source": [
    "## Task 2\n",
    "Fixing the number of convolutional layers as 3, the number of filters in each layer was tried as:\n",
    "[8,32,32], [16,64,64], [32,64,64], [64,128,128]. The plots of accuracy and f1 score are given below.\n",
    "### Fashion-MNIST\n",
    "<img src=\"../src/part_1_task_2.png\" width=\"400\">\n",
    "\n",
    "### CIFAR-10\n",
    "<img src=\"../src/part_2_task_2.png\" width=\"400\">\n",
    "\n",
    "In both cases, there is an increase in accuracy if we increase the number of neurons. This will also increase the number of parameters to be learned significantly.  \n"
   ]
  },
  {
   "cell_type": "markdown",
   "metadata": {},
   "source": [
    "## Task 3\n",
    "### Fashion-MNIST\n",
    "tanh activation function performed the best in this dataset giving an accuracy of 93.09% on the test set.\n",
    "<img src=\"../src/part_1_task_3.png\" width=\"400\">\n",
    "### CIFAR-10\n",
    "relu activation performed best in this dataset giving 78.48% accuracy.\n",
    "<img src=\"../src/part_2_task_3.png\" width=\"400\">\n"
   ]
  },
  {
   "cell_type": "markdown",
   "metadata": {},
   "source": [
    "## Task 4\n",
    "Keras by default uses Xavier's initialization which works well in practice. If we initialize the weights with zeros, the network doesn't converge. Other initializations available in keras also gives similar accuracy scores."
   ]
  },
  {
   "cell_type": "markdown",
   "metadata": {},
   "source": [
    "## Task 5\n",
    "The embedding for each data point was taken as the output of the penultimate dense layer. The implementation can be found in CNN jupyter notebook in src folder. The embedding dimension was fixed at 32 for both the datasets. The clustering was done on this 32 dimensional space using K-means clustering algorithm. Training was done on 50% of the train data for generating the embedding. \n",
    "\n",
    "### Fashion-MNIST\n",
    "The clustering accuracy was found to be 91.86% and f1 macro score 91.83%. This is very close to the CNN accuracy of 91.74% and f1 macro score 91.71%. So, the embedded vector represents the original data well and a clustering on the embedded space gives a marginally better result.\n",
    "\n",
    "### CIFAR-10\n",
    "The clustering accuracy was found to be 72.21% and f1 macro score 72.12%. The CNN accuracy was 72.26% and f1 macro score 72.23%. Similar to Fashion MNIST, the semi supervised clustering approach gives a marginally better accuracy. "
   ]
  },
  {
   "cell_type": "markdown",
   "metadata": {},
   "source": [
    "## Task 6\n",
    "The embedded data is plotted in 2D using tSNE method.\n",
    "### Fashion-MNIST \n",
    "\n",
    "We can see that many of the clusters are well seperated with a small overlap. But, we can see that there are 4 clusters which lie close together.\n",
    "<img src=\"../src/part_1_task_6.png\" width=\"400\">\n",
    "\n",
    "### CIFAR-10\n",
    "\n",
    "We can identify the seperation from this dataset also. There is significant overlap between some classes because the classification accuracy of CNN is also lower.\n",
    "<img src=\"../src/part_2_task_6.png\" width=\"400\">\n"
   ]
  },
  {
   "cell_type": "markdown",
   "metadata": {},
   "source": [
    "## Task 7\n",
    "### Fashion-MNIST\n",
    "Using a MLP implemented in Keras with two hidden layers of 512 neurons each, an accuracy of 89.57% and f1 macro score of 0.8952 was obtained.\n",
    "\n",
    "### CIFAR-10\n",
    "Using a MLP implemented in Keras with two hidden layers of 512 neurons each, an accuracy of 51.04% and f1 macro score of 0.503 was obtained."
   ]
  }
 ],
 "metadata": {
  "kernelspec": {
   "display_name": "Python 3",
   "language": "python",
   "name": "python3"
  },
  "language_info": {
   "codemirror_mode": {
    "name": "ipython",
    "version": 3
   },
   "file_extension": ".py",
   "mimetype": "text/x-python",
   "name": "python",
   "nbconvert_exporter": "python",
   "pygments_lexer": "ipython3",
   "version": "3.7.1"
  }
 },
 "nbformat": 4,
 "nbformat_minor": 2
}
